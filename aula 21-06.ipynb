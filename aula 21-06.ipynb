{
 "cells": [
  {
   "cell_type": "code",
   "execution_count": 10,
   "metadata": {},
   "outputs": [],
   "source": [
    "#criando uma classe\n",
    "class Pet():\n",
    "    #construtor da classe\n",
    "    def __init__(self,name,weight,color):\n",
    "        #atributos\n",
    "        self.nome = name\n",
    "        self.peso = weight\n",
    "        self.corDoPelo = color\n",
    "     \n",
    "     #   \n",
    "    def imprimirDados(self):\n",
    "        return(\"Nome: %s \\n Peso: %s\" % (self.nome, self.peso))\n",
    "    \n",
    "    def som(self, barulho):\n",
    "        print(barulho)"
   ]
  },
  {
   "cell_type": "code",
   "execution_count": 11,
   "metadata": {},
   "outputs": [
    {
     "name": "stdout",
     "output_type": "stream",
     "text": [
      "Nome: Marlene \n",
      " Peso: 7.9\n",
      "Au,Au!\n",
      "Nome: Cibele \n",
      " Peso: 4.5\n",
      "Miau!\n"
     ]
    }
   ],
   "source": [
    "#Instanciando um objeto cachorro\n",
    "caozinho = Pet(\"Marlene\", 7.9, \"Caramelo\")\n",
    "gato = Pet(\"Cibele\", 4.5, \"Cinza\")\n",
    "\n",
    "#Chamando o método do objeto criado\n",
    "print(caozinho.imprimirDados())\n",
    "caozinho.som(\"Au,Au!\")\n",
    "\n",
    "print(gato.imprimirDados())\n",
    "gato.som(\"Miau!\")"
   ]
  },
  {
   "cell_type": "code",
   "execution_count": null,
   "metadata": {},
   "outputs": [],
   "source": [
    "#FUNÇÃOXMETODO\n",
    "range(10) # range é função\n",
    "\n",
    " lista.append() # método precisa do objeto"
   ]
  },
  {
   "cell_type": "code",
   "execution_count": 29,
   "metadata": {},
   "outputs": [],
   "source": [
    "#Criando uma classe chamada livro 'O Monge e o Executivo',  9988888\n",
    "\n",
    "class Livro():\n",
    "    \n",
    "    def __init__(self, titulo, isbn):\n",
    "        \n",
    "        self.titulo = titulo\n",
    "        self.isbn = isbn\n",
    "        print(\"Construtor chamado para criar um objeto desta classe\")\n",
    "        \n",
    "    def imprime(self):\n",
    "        return(\"Foi criado o livro %s e ISBN %d\" %(self.titulo, self.isbn))"
   ]
  },
  {
   "cell_type": "code",
   "execution_count": 30,
   "metadata": {},
   "outputs": [
    {
     "name": "stdout",
     "output_type": "stream",
     "text": [
      "Construtor chamado para criar um objeto desta classe\n"
     ]
    }
   ],
   "source": [
    "#criando uma instância da classe livro\n",
    "Livro1=Livro(\"orgulho e preconceito\", 16675)\n",
    "#Construtor chamado para criar um objeto desta classe\n"
   ]
  },
  {
   "cell_type": "code",
   "execution_count": 31,
   "metadata": {},
   "outputs": [
    {
     "data": {
      "text/plain": [
       "__main__.Livro"
      ]
     },
     "execution_count": 31,
     "metadata": {},
     "output_type": "execute_result"
    }
   ],
   "source": [
    "#Tipo do Objeto Livro1\n",
    "type(Livro1)"
   ]
  },
  {
   "cell_type": "code",
   "execution_count": 32,
   "metadata": {},
   "outputs": [
    {
     "data": {
      "text/plain": [
       "'orgulho e preconceito'"
      ]
     },
     "execution_count": 32,
     "metadata": {},
     "output_type": "execute_result"
    }
   ],
   "source": [
    "#Atributo do objeto Livro1\n",
    "Livro1.titulo"
   ]
  },
  {
   "cell_type": "code",
   "execution_count": 33,
   "metadata": {},
   "outputs": [
    {
     "data": {
      "text/plain": [
       "'Foi criado o livro orgulho e preconceito e ISBN 16675'"
      ]
     },
     "execution_count": 33,
     "metadata": {},
     "output_type": "execute_result"
    }
   ],
   "source": [
    "Livro1.imprime()"
   ]
  },
  {
   "cell_type": "code",
   "execution_count": null,
   "metadata": {},
   "outputs": [],
   "source": [
    "#criando a classe mãe ou superclasse (que será reaproveitada depois por subclasses, chamadas de classes filhas)\n",
    "\n",
    "class Cachorro(Animal):\n",
    "    \n",
    "    def __init__(self):\n",
    "    print(\"Objeto Animal criado\")\n",
    "    \n",
    "    def Identif(self):\n",
    "        print(\"Animal\")\n",
    "    \n",
    "    def comer(self):\n",
    "        Print(\"Comendo\")\n",
    "        "
   ]
  },
  {
   "cell_type": "code",
   "execution_count": 37,
   "metadata": {},
   "outputs": [
    {
     "ename": "NameError",
     "evalue": "name 'Animal' is not defined",
     "output_type": "error",
     "traceback": [
      "\u001b[1;31m---------------------------------------------------------------------------\u001b[0m",
      "\u001b[1;31mNameError\u001b[0m                                 Traceback (most recent call last)",
      "Cell \u001b[1;32mIn[37], line 3\u001b[0m\n\u001b[0;32m      1\u001b[0m \u001b[38;5;66;03m#criando a classe Cachorro - sub-classe\u001b[39;00m\n\u001b[1;32m----> 3\u001b[0m \u001b[38;5;28;01mclass\u001b[39;00m  \u001b[38;5;21;01mCachorro\u001b[39;00m(\u001b[43mAnimal\u001b[49m):\n\u001b[0;32m      5\u001b[0m     \u001b[38;5;28;01mdef\u001b[39;00m \u001b[38;5;21m__init__\u001b[39m(\u001b[38;5;28mself\u001b[39m):\n\u001b[0;32m      6\u001b[0m         Animal\u001b[38;5;241m.\u001b[39m\u001b[38;5;21m__init__\u001b[39m(\u001b[38;5;28mself\u001b[39m)\n",
      "\u001b[1;31mNameError\u001b[0m: name 'Animal' is not defined"
     ]
    }
   ],
   "source": [
    "#criando a classe Cachorro - sub-classe\n",
    "\n",
    "class  Cachorro(Animal):\n",
    "    \n",
    "    def __init__(self):\n",
    "        Animal.__init__(self)\n",
    "        print(\"Objeto Cachorro criado\")\n",
    "    \n",
    "    def Identif (self):\n",
    "        print(\"Cachorro\")\n",
    "        \n",
    "    def latir (self):\n",
    "        print('Au,Au!')\n",
    "    "
   ]
  }
 ],
 "metadata": {
  "kernelspec": {
   "display_name": "Python 3",
   "language": "python",
   "name": "python3"
  },
  "language_info": {
   "codemirror_mode": {
    "name": "ipython",
    "version": 3
   },
   "file_extension": ".py",
   "mimetype": "text/x-python",
   "name": "python",
   "nbconvert_exporter": "python",
   "pygments_lexer": "ipython3",
   "version": "3.10.11"
  }
 },
 "nbformat": 4,
 "nbformat_minor": 2
}
